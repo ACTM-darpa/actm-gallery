{
 "cells": [
  {
   "cell_type": "markdown",
   "metadata": {
    "collapsed": true
   },
   "source": [
    "Copyright 2022, The Johns Hopkins University Applied Physics Laboratory LLC\n",
    "\n",
    "All rights reserved.\n",
    "\n",
    "Distributed under the terms of the BSD 3-Clause License."
   ]
  },
  {
   "cell_type": "markdown",
   "source": [
    "# PyBAMOCS Tutorial\n",
    "\n",
    "PyBAMOCS uses a simplified box model to simulate the Atlantic meridional overturning circulation (AMOC). The implementation is based on the paper by [Gnanadesikan et al.](https://journals.ametsoc.org/view/journals/clim/31/22/jcli-d-18-0388.1.xml), which examined the stability of the AMOC. This tutorial assumes that you have downloaded the PyBAMOCs code from the PACMANs repository on GitHub and installed PyBAMOCS and [Jupyter Notebook](https://jupyter.org) into your Python environment. Installation instructions for the PyBAMOCS module will be provided in the following section. For additional information about installing PyBAMOCS and the PyBAMOCS API, please see the [PACMANS repository](https://github.com/JHUAPL/PACMANs).\n",
    "\n",
    "This tutorial is meant to be a tool for getting started using the PyBAMOCS package and the included `box_model` functionality, and is not meant to be a comprehensive overview of all functions or capabilities of the included code. For a more thorough understanding, please consider viewing the code itself, and the examples in the `scripts` folder.\n",
    "\n",
    "## Installation\n",
    "\n",
    "We recommend installing PyBAMOCS in its own environment using [`venv`](https://docs.python.org/3/library/venv.html) or [`conda`](https://conda.io/projects/conda/en/latest/user-guide/install/index.html). Once in your new environment (if desired), perform the following steps to install the module.\n",
    "\n",
    "* Clone the [PACMANS repository](https://github.com/JHUAPL/PACMANs)\n",
    "    * `git clone https://github.com/JHUAPL/PACMANs.git`\n",
    "* Change directories to `box_model/python/`\n",
    "    * `cd box_model/python/`\n",
    "* Install locally using `pip`\n",
    "    * `pip install -e .`"
   ],
   "metadata": {
    "collapsed": false
   }
  },
  {
   "cell_type": "code",
   "execution_count": 1,
   "outputs": [],
   "source": [
    "import time\n",
    "from matplotlib import pyplot as plt\n",
    "from typing import Union\n",
    "\n",
    "# Import the `box_model` function and its arguments\n",
    "from pybamocs.box_model import box_model\n",
    "from pybamocs.box_model import NORTH_IDX, SOUTH_IDX, LOW_IDX, DEEP_IDX\n",
    "from pybamocs.box_model_args import (\n",
    "    BoxModelBoxDimensions,\n",
    "    BoxModelInitConditions,\n",
    "    BoxModelTimeStep,\n",
    "    BoxModelParameters\n",
    ")\n",
    "from pybamocs.box_model_args import dict_from_box_args, box_args_from_dict"
   ],
   "metadata": {
    "collapsed": false
   }
  },
  {
   "cell_type": "code",
   "execution_count": 2,
   "outputs": [],
   "source": [
    "# Box model settings are divided into for groups:\n",
    "box_model_dimensions = BoxModelBoxDimensions()\n",
    "box_model_initial_conditions = BoxModelInitConditions()\n",
    "box_model_time_settings = BoxModelTimeStep()\n",
    "box_model_parameters = BoxModelParameters()\n",
    "\n",
    "# And there is one object for each group as shown above."
   ],
   "metadata": {
    "collapsed": false
   }
  },
  {
   "cell_type": "markdown",
   "source": [
    "**Notice that no arguments are required to initialize the objects in the previous cell, this is because each argument has a default value. Not passing in a value for an argument sets it to the default value.**\n",
    "\n",
    "The following cells show the default values of each object. For more information about what each argument represents, see [pybamocs.box_model_args.py](../pybamocs/box_model_args.py)."
   ],
   "metadata": {
    "collapsed": false
   }
  },
  {
   "cell_type": "code",
   "execution_count": 3,
   "outputs": [],
   "source": [
    "def print_box_model_argument_settings(argument: Union[BoxModelBoxDimensions, BoxModelInitConditions,\n",
    "                                                      BoxModelTimeStep, BoxModelParameters]) -> None:\n",
    "    \"\"\"\n",
    "    Print box model settings to console for a given box_model argument.\n",
    "    :param argument: One of the box_model argument objects.\n",
    "    \"\"\"\n",
    "    settings_dict = argument.to_dict()  # Get the settings as a python dictionary\n",
    "\n",
    "    print(\"vvvvvvvvvvvvvvvvvvvvvvvvvvvvvvvvvvvvvvvvvvvvvvvvvvvvvvvvvvvvvvv\")\n",
    "    # Print each key, value pair in the dictionary\n",
    "    for key, value in settings_dict.items():\n",
    "        print(f\"{key}={value}\")\n",
    "    print(\"^^^^^^^^^^^^^^^^^^^^^^^^^^^^^^^^^^^^^^^^^^^^^^^^^^^^^^^^^^^^^^^\")\n",
    "    print()\n"
   ],
   "metadata": {
    "collapsed": false
   }
  },
  {
   "cell_type": "code",
   "execution_count": null,
   "outputs": [],
   "source": [
    "print(\"------------------------------------------------------------\")\n",
    "print(\"Box Dimensions:\")\n",
    "print_box_model_argument_settings(box_model_dimensions)"
   ],
   "metadata": {
    "collapsed": false,
    "pycharm": {
     "is_executing": true
    }
   }
  },
  {
   "cell_type": "code",
   "execution_count": null,
   "outputs": [],
   "source": [
    "print(\"------------------------------------------------------------\")\n",
    "print(\"Initial Conditions\")\n",
    "print_box_model_argument_settings(box_model_initial_conditions)"
   ],
   "metadata": {
    "collapsed": false,
    "pycharm": {
     "is_executing": true
    }
   }
  },
  {
   "cell_type": "code",
   "execution_count": null,
   "outputs": [],
   "source": [
    "print(\"------------------------------------------------------------\")\n",
    "print(\"Model Time Step Parameters:\")\n",
    "print_box_model_argument_settings(box_model_time_settings)"
   ],
   "metadata": {
    "collapsed": false,
    "pycharm": {
     "is_executing": true
    }
   }
  },
  {
   "cell_type": "code",
   "execution_count": null,
   "outputs": [],
   "source": [
    "print(\"------------------------------------------------------------\")\n",
    "print(\"Model Parameters\")\n",
    "print_box_model_argument_settings(box_model_parameters)"
   ],
   "metadata": {
    "collapsed": false,
    "pycharm": {
     "is_executing": true
    }
   }
  },
  {
   "cell_type": "markdown",
   "source": [
    "**We also include helper functions to manage box model arguments with regular Python dictionaries, if desired.**"
   ],
   "metadata": {
    "collapsed": false
   }
  },
  {
   "cell_type": "code",
   "execution_count": null,
   "outputs": [],
   "source": [
    "print(\"All box model settings in one dictionary\")\n",
    "print()\n",
    "box_args_dict = dict_from_box_args(box_model_dimensions, box_model_initial_conditions, box_model_parameters, box_model_time_settings)\n",
    "print(box_args_dict)"
   ],
   "metadata": {
    "collapsed": false,
    "pycharm": {
     "is_executing": true
    }
   }
  },
  {
   "cell_type": "code",
   "execution_count": null,
   "outputs": [],
   "source": [
    "print(\"Getting box model argument objects from a dictionary\")\n",
    "print()\n",
    "box_args = box_args_from_dict(box_args_dict)\n",
    "print([(arg, obj) for arg, obj in box_args.items()])"
   ],
   "metadata": {
    "collapsed": false,
    "pycharm": {
     "is_executing": true
    }
   }
  },
  {
   "cell_type": "markdown",
   "source": [
    "You can update the parameters in a box model argument object to run a new experiment, or make copies and update those parameters."
   ],
   "metadata": {
    "collapsed": false
   }
  },
  {
   "cell_type": "code",
   "source": [
    "new_param_arg = BoxModelParameters(epsilon=0.002)\n",
    "print('epsilon:', new_param_arg.epsilon)\n",
    "new_param_arg.epsilon = 0.005\n",
    "print('updated...')\n",
    "print('epsilon:', new_param_arg.epsilon)\n",
    "\n",
    "new_param_arg_copy = new_param_arg.copy()\n",
    "new_param_arg_copy.epsilon = 100000\n",
    "\n",
    "print('copied...')\n",
    "\n",
    "print('same object epsilon:', new_param_arg.epsilon)\n",
    "print('copied object\\'s epsilon after update:', new_param_arg_copy.epsilon)"
   ],
   "metadata": {
    "collapsed": false,
    "pycharm": {
     "is_executing": true
    }
   },
   "execution_count": null,
   "outputs": []
  },
  {
   "cell_type": "markdown",
   "source": [
    "## Running a box model simulation"
   ],
   "metadata": {
    "collapsed": false
   }
  },
  {
   "cell_type": "code",
   "execution_count": null,
   "outputs": [],
   "source": [
    "# To run the box model, simply call the `box_model` function with your argument objects\n",
    "results = box_model(box_model_dimensions, box_model_initial_conditions, box_model_parameters, box_model_time_settings)\n",
    "\n",
    "# Note that the results are contained in a BoxModelResult object\n",
    "print(\"Box model output:\")\n",
    "print(results)\n",
    "print()\n",
    "\n",
    "# You can access specific results directly from the object\n",
    "print(\"------------------------------------------------------\")\n",
    "print(\"Shape of M_n:\", results.M_n.shape)\n",
    "print()\n",
    "\n",
    "# or you can \"unpack\" them all at once\n",
    "M_n, M_upw, M_eddy, D_low, T, S, sigma0 = results.unpack()\n",
    "\n",
    "print(\"------------------------------------------------------\")\n",
    "print(\"First 3 values of each output:\")\n",
    "print(\"M_n:\", M_n[:3])\n",
    "print(\"M_upw:\", M_upw[:3])\n",
    "print(\"M_eddy:\", M_eddy[:3])\n",
    "print(\"D_low:\", D_low[:3])\n",
    "print(\"T_north:\", T[NORTH_IDX, :3])\n",
    "print(\"T_south:\", T[SOUTH_IDX, :3])\n",
    "print(\"T_low:\", T[LOW_IDX, :3])\n",
    "print(\"T_deep:\", T[DEEP_IDX, :3])\n",
    "print(\"S_north:\", S[NORTH_IDX, :3])\n",
    "print(\"S_south:\", S[SOUTH_IDX, :3])\n",
    "print(\"S_low:\", S[LOW_IDX, :3])\n",
    "print(\"S_deep:\", S[DEEP_IDX, :3])\n",
    "print(\"sigma0_north:\", sigma0[NORTH_IDX, :3])\n",
    "print(\"sigma0_south:\", sigma0[SOUTH_IDX, :3])\n",
    "print(\"sigma0_low:\", sigma0[LOW_IDX, :3])\n",
    "print(\"sigma0_deep:\", sigma0[DEEP_IDX, :3])"
   ],
   "metadata": {
    "collapsed": false,
    "pycharm": {
     "is_executing": true
    }
   }
  },
  {
   "cell_type": "markdown",
   "source": [
    "### Example visualization of the results using the `pyplot` submodule from [Matplotlib](https://matplotlib.org)"
   ],
   "metadata": {
    "collapsed": false
   }
  },
  {
   "cell_type": "code",
   "execution_count": null,
   "outputs": [],
   "source": [
    "plt.plot(M_n, label='M_n')\n",
    "plt.plot(M_upw, label='M_upw')\n",
    "plt.plot(M_eddy, label='M_eddy')\n",
    "plt.plot(D_low, label='Dlow')\n",
    "plt.legend()\n",
    "plt.title(\"1D Box Model Outputs\")\n",
    "plt.show()\n",
    "fig, ax = plt.subplots(nrows=2, ncols=2)\n",
    "ax[0, 0].plot(T[NORTH_IDX], label='North')\n",
    "ax[0, 1].plot(T[SOUTH_IDX], label='South')\n",
    "ax[1, 0].plot(T[LOW_IDX], label='Low')\n",
    "ax[1, 1].plot(T[DEEP_IDX], label='Deep')\n",
    "ax[0, 0].legend()\n",
    "ax[0, 1].legend()\n",
    "ax[1, 0].legend()\n",
    "ax[1, 1].legend()\n",
    "plt.suptitle(\"Temperature in the 4 different boxes\")\n",
    "plt.tight_layout()\n",
    "plt.show()\n",
    "fig1, ax1 = plt.subplots(nrows=2, ncols=2)\n",
    "ax1[0, 0].plot(S[NORTH_IDX], label='North')\n",
    "ax1[0, 1].plot(S[SOUTH_IDX], label='South')\n",
    "ax1[1, 0].plot(S[LOW_IDX], label='Low')\n",
    "ax1[1, 1].plot(S[DEEP_IDX], label='Deep')\n",
    "ax1[0, 0].legend()\n",
    "ax1[0, 1].legend()\n",
    "ax1[1, 0].legend()\n",
    "ax1[1, 1].legend()\n",
    "plt.suptitle(\"Salinity in the 4 different boxes\")\n",
    "plt.tight_layout()\n",
    "plt.show()\n",
    "fig2, ax2 = plt.subplots(nrows=2, ncols=2)\n",
    "ax2[0, 0].plot(sigma0[NORTH_IDX], label='North')\n",
    "ax2[0, 1].plot(sigma0[SOUTH_IDX], label='South')\n",
    "ax2[1, 0].plot(sigma0[LOW_IDX], label='Low')\n",
    "ax2[1, 1].plot(sigma0[DEEP_IDX], label='Deep')\n",
    "ax2[0, 0].legend()\n",
    "ax2[0, 1].legend()\n",
    "ax2[1, 0].legend()\n",
    "ax2[1, 1].legend()\n",
    "plt.suptitle(\"Density in the 4 different boxes\")\n",
    "plt.tight_layout()\n",
    "plt.show()"
   ],
   "metadata": {
    "collapsed": false,
    "pycharm": {
     "is_executing": true
    }
   }
  },
  {
   "cell_type": "markdown",
   "source": [
    "## Running multiple experiments with the box model"
   ],
   "metadata": {
    "collapsed": false
   }
  },
  {
   "cell_type": "code",
   "execution_count": null,
   "outputs": [],
   "source": [
    "# Consider an example of some data collection\n",
    "\n",
    "Fwn_values_to_test = [10000, 50000, 100000, 500000, 1000000]\n",
    "alternate_north_starting_temp = 4.0\n",
    "\n",
    "box_dims = BoxModelBoxDimensions()\n",
    "params = BoxModelParameters()\n",
    "time_step = BoxModelTimeStep()\n",
    "init = BoxModelInitConditions(T_north0=alternate_north_starting_temp)\n",
    "\n",
    "# Collect the data... (should take a few seconds)\n",
    "start_time = time.time()\n",
    "results = []\n",
    "for fwn in Fwn_values_to_test:\n",
    "    params.Fwn = fwn\n",
    "    results.append(box_model(box_dims, init, params, time_step))\n",
    "time_to_collect_data = time.time() - start_time\n",
    "\n",
    "# Let's look at the difference in M_n for each run\n",
    "plt.figure()\n",
    "for i in range(len(Fwn_values_to_test)):\n",
    "    plt.plot(results[i].M_n, label=f\"Fwn={Fwn_values_to_test[i]}\")\n",
    "plt.title(f\"M_n for different Northern Fluxes and T_north0={alternate_north_starting_temp}\")\n",
    "plt.legend()\n",
    "plt.show()\n",
    "\n",
    "print(f\"Total time to collect data: {time_to_collect_data} seconds\")"
   ],
   "metadata": {
    "collapsed": false,
    "pycharm": {
     "is_executing": true
    }
   }
  },
  {
   "cell_type": "markdown",
   "source": [
    "**Note that collecting data this way is embarrassingly parallel. To more quickly collect data on multiple configurations, consider a simple [multiprocessing](https://docs.python.org/3/library/multiprocessing.html) approach.**"
   ],
   "metadata": {
    "collapsed": false
   }
  }
 ],
 "metadata": {
  "kernelspec": {
   "display_name": "Python 3",
   "language": "python",
   "name": "python3"
  },
  "language_info": {
   "codemirror_mode": {
    "name": "ipython",
    "version": 2
   },
   "file_extension": ".py",
   "mimetype": "text/x-python",
   "name": "python",
   "nbconvert_exporter": "python",
   "pygments_lexer": "ipython2",
   "version": "2.7.6"
  }
 },
 "nbformat": 4,
 "nbformat_minor": 0
}
